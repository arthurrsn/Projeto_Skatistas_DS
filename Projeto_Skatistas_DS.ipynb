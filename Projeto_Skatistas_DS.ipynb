{
 "cells": [
  {
   "cell_type": "markdown",
   "metadata": {},
   "source": [
    "# CASE\n",
    " Você foi contratado(a) como cientista de dados de uma associação de skate. Para analisar as notas recebidas de skatistas em algumas competições ao longo do ano, você precisa criar um código que calcula a pontuação dos(as) atletas. Para isso, o seu código deve receber 5 notas digitadas pelas pessoas juradas.\n",
    "\n",
    "Para calcular a pontuação de um(a) skatista, você precisa eliminar a maior e a menor pontuação dentre as 5 notas e tirar a média das 3 notas que sobraram. "
   ]
  },
  {
   "cell_type": "markdown",
   "metadata": {},
   "source": [
    "~~~~\n",
    "Passo 1: Cadastrar Jogador e Receber as 5 notas digitadas (Input)\n",
    "Passo 2: Retirar maior e menor nota\n",
    "Passo 3: Calcular Media\n",
    "Passo 4: Exibir informações na tela\n",
    "Passo 5: Criar função para adicionar o participante sempre que precisar\n",
    "~~~~"
   ]
  },
  {
   "cell_type": "code",
   "execution_count": 8,
   "metadata": {},
   "outputs": [],
   "source": [
    "# Caso precise instalar as dependências apenas descomente o código abaixo\n",
    "\n",
    "#%pip install pandas numpy openpyxl"
   ]
  },
  {
   "cell_type": "markdown",
   "metadata": {},
   "source": [
    "# Passo 1\n",
    "Vamos receber essas notas por meio de um input e armazena-las no campo do participante"
   ]
  },
  {
   "cell_type": "code",
   "execution_count": 9,
   "metadata": {},
   "outputs": [],
   "source": [
    "# O dicionario participantes irá armazenar todas as informações do players\n",
    "participantes = {}\n",
    "\n",
    "# Define o número de voltas nessa competição\n",
    "numero_de_notas = 5\n",
    "\n",
    "def pegar_participante() -> None:\n",
    "    \n",
    "    # Armazenando o nome do participante na variavel nome\n",
    "    name = str(input('Participante: ')).strip().upper()\n",
    "\n",
    "    # Declarando que esse espaço no dicionario sera uma lista\n",
    "    participantes[f'{name}'] = {\n",
    "        'Notas':[],\n",
    "        'Media':[]\n",
    "        }\n",
    "\n",
    "    # adicionando o valor float coletado a lista notas\n",
    "    for i in range(1, numero_de_notas+1):\n",
    "        participantes[f'{name}']['Notas'].append(float(input(f'Digite nota Nº{i}')))\n"
   ]
  },
  {
   "cell_type": "markdown",
   "metadata": {},
   "source": [
    "# Passo 2\n",
    "Nessa etapa nosso objetivo é tratar os dados para poder prosseguir com o próximo passo."
   ]
  },
  {
   "cell_type": "code",
   "execution_count": 10,
   "metadata": {},
   "outputs": [],
   "source": [
    "def tratar_dados() -> None:\n",
    "    \n",
    "    # Para cada participante...\n",
    "    for chave in participantes.keys():\n",
    "        if len(participantes[f'{chave}']['Notas']) > (numero_de_notas - 2):\n",
    "            # Remover valor máximo\n",
    "            participantes[f'{chave}']['Notas'].remove(max(participantes[f'{chave}']['Notas']))\n",
    "\n",
    "            # Remover valor mínimo\n",
    "            participantes[f'{chave}']['Notas'].remove(min(participantes[f'{chave}']['Notas']))"
   ]
  },
  {
   "cell_type": "markdown",
   "metadata": {},
   "source": [
    "# Passo 3\n",
    "Aqui iremos calcular a nossa média de nota para adquirir o resultado"
   ]
  },
  {
   "cell_type": "code",
   "execution_count": 11,
   "metadata": {},
   "outputs": [],
   "source": [
    "def calcular_media() -> None:\n",
    "    \"\"\"\n",
    "    Descrição: \n",
    "    Para cada partipante ele irá abrir o seu espaço no dicionário,\n",
    "    abrir a chave 'Media' e adicionar a esse campo o valor da soma\n",
    "    de todos os valores no campo 'Notas' e dividir pelo número de \n",
    "    itens que tem neste mesmo campo.\n",
    "    \"\"\"\n",
    "    \n",
    "    for chave in participantes.keys():\n",
    "        if not participantes[f'{chave}']['Media']:\n",
    "            participantes[f'{chave}']['Media'] = round((sum(participantes[f'{chave}']['Notas'])) / len(participantes[f'{chave}']['Notas']), 1)"
   ]
  },
  {
   "cell_type": "markdown",
   "metadata": {},
   "source": [
    "# Passo 4\n",
    "Mostrando ao publico a visualisação do dicionário em forma de tabela de posições para melhor entendimento"
   ]
  },
  {
   "cell_type": "code",
   "execution_count": 12,
   "metadata": {},
   "outputs": [],
   "source": [
    "from operator import itemgetter\n",
    "import pandas as pd\n",
    "\n",
    "def visualisacao_posicionamento():\n",
    "    # Criando dicionario que sera usado para colocar apenas a chave e a media\n",
    "    participantes_key_and_media = {}\n",
    "\n",
    "    # Para cada participante declare a media como valor\n",
    "    for chave in participantes.keys():\n",
    "        participantes_key_and_media[f'{chave}'] = participantes[f'{chave}']['Media']\n",
    "\n",
    "    # tabela_posicoes_participantes será igual a organização do dicionario, levando em consideração o valor um (0=chave, 1=valor) e colocando em modo reverso para ficar decrescente.\n",
    "    tabela_posicoes_participantes = dict(sorted(participantes_key_and_media.items(), key=itemgetter(1), reverse=True))\n",
    "\n",
    "    # exibindo a tabela\n",
    "    df = pd.DataFrame(list(tabela_posicoes_participantes.items()), columns=['Participante', 'Media'])\n",
    "    display(df)\n",
    "    \n"
   ]
  },
  {
   "cell_type": "markdown",
   "metadata": {},
   "source": [
    "# Passo 5\n",
    "Criando a função agrupada para adicionar os participantes"
   ]
  },
  {
   "cell_type": "code",
   "execution_count": 13,
   "metadata": {},
   "outputs": [],
   "source": [
    "def adicionar_participante() -> None:\n",
    "    pegar_participante()\n",
    "    tratar_dados()\n",
    "    calcular_media()\n",
    "    visualisacao_posicionamento()"
   ]
  },
  {
   "cell_type": "markdown",
   "metadata": {},
   "source": [
    "### `Adicione participantes executando o código abaixo.`"
   ]
  },
  {
   "cell_type": "code",
   "execution_count": 15,
   "metadata": {},
   "outputs": [
    {
     "data": {
      "text/html": [
       "<div>\n",
       "<style scoped>\n",
       "    .dataframe tbody tr th:only-of-type {\n",
       "        vertical-align: middle;\n",
       "    }\n",
       "\n",
       "    .dataframe tbody tr th {\n",
       "        vertical-align: top;\n",
       "    }\n",
       "\n",
       "    .dataframe thead th {\n",
       "        text-align: right;\n",
       "    }\n",
       "</style>\n",
       "<table border=\"1\" class=\"dataframe\">\n",
       "  <thead>\n",
       "    <tr style=\"text-align: right;\">\n",
       "      <th></th>\n",
       "      <th>Participante</th>\n",
       "      <th>Media</th>\n",
       "    </tr>\n",
       "  </thead>\n",
       "  <tbody>\n",
       "    <tr>\n",
       "      <th>0</th>\n",
       "      <td>EDUARDA</td>\n",
       "      <td>9.0</td>\n",
       "    </tr>\n",
       "    <tr>\n",
       "      <th>1</th>\n",
       "      <td>ARTHUR</td>\n",
       "      <td>8.0</td>\n",
       "    </tr>\n",
       "  </tbody>\n",
       "</table>\n",
       "</div>"
      ],
      "text/plain": [
       "  Participante  Media\n",
       "0      EDUARDA    9.0\n",
       "1       ARTHUR    8.0"
      ]
     },
     "metadata": {},
     "output_type": "display_data"
    }
   ],
   "source": [
    "adicionar_participante()"
   ]
  }
 ],
 "metadata": {
  "kernelspec": {
   "display_name": "Python 3",
   "language": "python",
   "name": "python3"
  },
  "language_info": {
   "codemirror_mode": {
    "name": "ipython",
    "version": 3
   },
   "file_extension": ".py",
   "mimetype": "text/x-python",
   "name": "python",
   "nbconvert_exporter": "python",
   "pygments_lexer": "ipython3",
   "version": "3.12.4"
  }
 },
 "nbformat": 4,
 "nbformat_minor": 2
}
